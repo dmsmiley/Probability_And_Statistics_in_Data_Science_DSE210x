{
  "nbformat": 4,
  "nbformat_minor": 0,
  "metadata": {
    "kernelspec": {
      "display_name": "Python 2",
      "language": "python",
      "name": "python2"
    },
    "language_info": {
      "codemirror_mode": {
        "name": "ipython",
        "version": 3
      },
      "file_extension": ".py",
      "mimetype": "text/x-python",
      "name": "python",
      "nbconvert_exporter": "python",
      "pygments_lexer": "ipython3",
      "version": "3.5.2"
    },
    "latex_envs": {
      "LaTeX_envs_menu_present": true,
      "autoclose": false,
      "autocomplete": true,
      "bibliofile": "biblio.bib",
      "cite_by": "apalike",
      "current_citInitial": 1,
      "eqLabelWithNumbers": true,
      "eqNumInitial": 1,
      "hotkeys": {
        "equation": "Ctrl-E",
        "itemize": "Ctrl-I"
      },
      "labels_anchors": false,
      "latex_user_defs": false,
      "report_style_numbering": false,
      "user_envs_cfg": false
    },
    "toc": {
      "nav_menu": {
        "height": "48px",
        "width": "252px"
      },
      "number_sections": true,
      "sideBar": true,
      "skip_h1_title": false,
      "toc_cell": false,
      "toc_position": [],
      "toc_section_display": "block",
      "toc_window_display": false
    },
    "varInspector": {
      "cols": {
        "lenName": 16,
        "lenType": 16,
        "lenVar": 40
      },
      "kernels_config": {
        "python": {
          "delete_cmd_postfix": "",
          "delete_cmd_prefix": "del ",
          "library": "var_list.py",
          "varRefreshCmd": "print(var_dic_list())"
        },
        "r": {
          "delete_cmd_postfix": ") ",
          "delete_cmd_prefix": "rm(",
          "library": "var_list.r",
          "varRefreshCmd": "cat(var_dic_list()) "
        }
      },
      "types_to_exclude": [
        "module",
        "function",
        "builtin_function_or_method",
        "instance",
        "_Feature"
      ],
      "window_display": false
    },
    "colab": {
      "name": "HW_Topic2.ipynb",
      "provenance": []
    }
  },
  "cells": [
    {
      "cell_type": "markdown",
      "metadata": {
        "nbgrader": {
          "grade": false,
          "locked": true,
          "solution": false
        },
        "id": "lxXjoDtI5Xsj"
      },
      "source": [
        "<font size=\"4\" style=\"color:red;\"> **IMPORTANT: ** When submitting this homework notebook, please modify only the cells that start with:</font>\n",
        "\n",
        "```python\n",
        "# modify this cell\n",
        "```"
      ]
    },
    {
      "cell_type": "markdown",
      "metadata": {
        "nbgrader": {
          "grade": false,
          "locked": true,
          "solution": false
        },
        "id": "3rXT4eQK5Xsp"
      },
      "source": [
        "### Import Stuff\n",
        "\n",
        "Notice that we do not import *numpy* or *scipy* neither of these packages are need for this homework. For our solutions, the only command we needed to import was `itertools.product()`"
      ]
    },
    {
      "cell_type": "code",
      "metadata": {
        "collapsed": true,
        "nbgrader": {
          "grade": false,
          "locked": true,
          "solution": false
        },
        "id": "Farki1Fh5Xsr"
      },
      "source": [
        "import itertools\n",
        "from itertools import product"
      ],
      "execution_count": null,
      "outputs": []
    },
    {
      "cell_type": "markdown",
      "metadata": {
        "nbgrader": {
          "grade": false,
          "locked": true,
          "solution": false
        },
        "id": "OVZDtYa25Xss"
      },
      "source": [
        "# Sets\n",
        "Read the notebook on sets before attempting these exercises"
      ]
    },
    {
      "cell_type": "markdown",
      "metadata": {
        "nbgrader": {
          "grade": false,
          "locked": true,
          "solution": false
        },
        "id": "s_T__aey5Xst"
      },
      "source": [
        "# Problem 1"
      ]
    },
    {
      "cell_type": "markdown",
      "metadata": {
        "nbgrader": {
          "grade": false,
          "locked": true,
          "solution": false
        },
        "id": "VjTHGy8C5Xst"
      },
      "source": [
        "De Morgan's first law states the following for any two sets $A$ and $B$\n",
        "$$(A\\cup B)^c = A^c\\cap B^c$$\n",
        "\n",
        "In the following two exercises we calculate $(A\\cup B)^c$ in two different ways. Both functions must take $A$, $B$ and the universal set $U$ as their inputs."
      ]
    },
    {
      "cell_type": "markdown",
      "metadata": {
        "nbgrader": {
          "grade": false,
          "locked": true,
          "solution": false
        },
        "id": "xBMfSQG85Xsu"
      },
      "source": [
        "## Exercise 1.1"
      ]
    },
    {
      "cell_type": "markdown",
      "metadata": {
        "nbgrader": {
          "grade": false,
          "locked": true,
          "solution": false
        },
        "id": "6AAxcYPN5Xsv"
      },
      "source": [
        "\n",
        "Write the function **complement_of_union** that first determines $A\\cup B$ and then evaluates the complement of this set. Output the tuple: $\\begin{pmatrix}A\\cup B,\\, (A\\cup B)^c\\end{pmatrix}$.\n",
        "\n",
        "\n",
        "\n",
        "<font  style=\"color:blue\"> **Code**</font>\n",
        "```python\n",
        "A = {1, 2, 3}\n",
        "B = {3, -6, 2, 0}\n",
        "U = {-10, -9, -8, -7, -6, 0, 1, 2, 3, 4}\n",
        "complement_of_union(A, B, U)\n",
        "```\n",
        "\n",
        "<font  style=\"color:magenta\"> **Output**</font>\n",
        "```\n",
        "({-6, 0, 1, 2, 3}, {-10, -9, -8, -7, 4})\n",
        "```\n"
      ]
    },
    {
      "cell_type": "code",
      "metadata": {
        "collapsed": true,
        "scrolled": true,
        "id": "SorFyWa25Xsv"
      },
      "source": [
        "# modify this cell\n",
        "\n",
        "def complement_of_union(A, B, U):\n",
        "    # inputs: A, B and U are of type 'set'\n",
        "    # output: a tuple of the type (set, set)\n",
        "    union = A.union(B)\n",
        "    complement = U - union\n",
        "    return (union, complement)\n",
        "    \n"
      ],
      "execution_count": null,
      "outputs": []
    },
    {
      "cell_type": "code",
      "metadata": {
        "collapsed": true,
        "nbgrader": {
          "grade": true,
          "grade_id": "ex1",
          "locked": true,
          "points": "5",
          "solution": false
        },
        "colab": {
          "base_uri": "https://localhost:8080/"
        },
        "id": "fs7akulk5Xsw",
        "outputId": "346b69ad-a6a6-49a8-9410-5835bf26720b"
      },
      "source": [
        "# Check Function\n",
        "\n",
        "A = {1, 2, 3, 4, 5}\n",
        "B = {0, 2, -6, 5, 8, 9}\n",
        "U = A|B|{-3, 7, 10, -4}\n",
        "#assert complement_of_union(A, B, U) == ({-6, 0, 1, 2, 3, 4, 5, 8, 9}, {-4, -3, 7, 10})\n",
        "\n",
        "#\n",
        "# AUTOGRADER TEST - DO NOT REMOVE\n",
        "#\n",
        "complement_of_union(A,B,U)"
      ],
      "execution_count": null,
      "outputs": [
        {
          "output_type": "execute_result",
          "data": {
            "text/plain": [
              "({-6, 0, 1, 2, 3, 4, 5, 8, 9}, {-4, -3, 7, 10})"
            ]
          },
          "metadata": {
            "tags": []
          },
          "execution_count": 8
        }
      ]
    },
    {
      "cell_type": "code",
      "metadata": {
        "colab": {
          "base_uri": "https://localhost:8080/"
        },
        "id": "XeJc9cy769i1",
        "outputId": "600f7b1a-aa69-46f1-dbf9-7331d01f54cb"
      },
      "source": [
        "A = {-6,3,4,5}\r\n",
        "B = {-6,5,13}\r\n",
        "U = A|B|{12,-2,-4}\r\n",
        "complement_of_union(A,B,U)"
      ],
      "execution_count": null,
      "outputs": [
        {
          "output_type": "execute_result",
          "data": {
            "text/plain": [
              "({-6, 3, 4, 5, 13}, {-4, -2, 12})"
            ]
          },
          "metadata": {
            "tags": []
          },
          "execution_count": 9
        }
      ]
    },
    {
      "cell_type": "markdown",
      "metadata": {
        "nbgrader": {
          "grade": false,
          "locked": true,
          "solution": false
        },
        "id": "vgpVq4aj5Xsw"
      },
      "source": [
        "## Exercsise 1.2\n",
        "\n",
        "Write the function **intersection_of_complements** that first determines $A^c$ and $B^c$ and then evaluates the intersection of their complements. Output the tuple: $\\begin{pmatrix}A^c, \\,  A^c\\cap B^c\\end{pmatrix}$\n",
        "\n",
        "<font  style=\"color:blue\"> **Code**</font>\n",
        "```python\n",
        "A = {1, 2, 3}\n",
        "B = {3, -6, 2, 0}\n",
        "U = {-10, -9, -8, -7, -6, 0, 1, 2, 3, 4}\n",
        "intersection_of_complements(A, B, U)\n",
        "```\n",
        "\n",
        "<font  style=\"color:magenta\"> **Output**</font>\n",
        "```\n",
        "({-10, -9, -8, -7, -6, 0, 4}, {-10, -9, -8, -7, 4})\n",
        "```\n"
      ]
    },
    {
      "cell_type": "code",
      "metadata": {
        "collapsed": true,
        "id": "mxp9mgS85Xsx"
      },
      "source": [
        "# modify this cell\n",
        "\n",
        "def intersection_of_complements(A, B, U):\n",
        "    # inputs: A, B and U are of type 'set'\n",
        "    # output: a tuple of the form (set, set)\n",
        "  \n",
        "    BU = B.union(U) - A\n",
        "    new_U = U - A.union(B)\n",
        "\n",
        "    return (BU, new_U)\n",
        "    #\n",
        "    # YOUR CODE HERE\n",
        "    #\n"
      ],
      "execution_count": null,
      "outputs": []
    },
    {
      "cell_type": "code",
      "metadata": {
        "collapsed": true,
        "nbgrader": {
          "grade": true,
          "grade_id": "ex2",
          "locked": true,
          "points": "5",
          "solution": false
        },
        "colab": {
          "base_uri": "https://localhost:8080/"
        },
        "id": "lyaLbzTt5Xsx",
        "outputId": "bcf70a1c-291a-406c-ef8a-34970c406bf6"
      },
      "source": [
        "# Check Function\n",
        "\n",
        "A = {1, 2, 3, 4, 5}\n",
        "B = {0, 2, -6, 5, 8, 9}\n",
        "U = A|B|{-3, 7, 10, -4}\n",
        "#assert(  intersection_of_complements(A, B, U) == ({-6, -4, -3, 0, 7, 8, 9, 10}, {-4, -3, 7, 10})  )\n",
        "\n",
        "#\n",
        "# AUTOGRADER TEST - DO NOT REMOVE\n",
        "#\n",
        "intersection_of_complements(A, B, U)"
      ],
      "execution_count": null,
      "outputs": [
        {
          "output_type": "execute_result",
          "data": {
            "text/plain": [
              "({-6, -4, -3, 0, 7, 8, 9, 10}, {-4, -3, 7, 10})"
            ]
          },
          "metadata": {
            "tags": []
          },
          "execution_count": 51
        }
      ]
    },
    {
      "cell_type": "code",
      "metadata": {
        "colab": {
          "base_uri": "https://localhost:8080/"
        },
        "id": "QIIi9dsn--0V",
        "outputId": "9c5a5fd1-0bff-42ad-a8d9-146393116684"
      },
      "source": [
        "A = {-6,3,4,5}\r\n",
        "B = {-6,5,13}\r\n",
        "U = A|B|{12,-2,-4}\r\n",
        "intersection_of_complements(A, B, U)"
      ],
      "execution_count": null,
      "outputs": [
        {
          "output_type": "execute_result",
          "data": {
            "text/plain": [
              "({-4, -2, 12, 13}, {-4, -2, 12})"
            ]
          },
          "metadata": {
            "tags": []
          },
          "execution_count": 53
        }
      ]
    },
    {
      "cell_type": "markdown",
      "metadata": {
        "collapsed": true,
        "nbgrader": {
          "grade": false,
          "locked": true,
          "solution": false
        },
        "id": "vs5ypnJo5Xsx"
      },
      "source": [
        "# Problem 2"
      ]
    },
    {
      "cell_type": "markdown",
      "metadata": {
        "nbgrader": {
          "grade": false,
          "locked": true,
          "solution": false
        },
        "id": "Ws4GBHH95Xsy"
      },
      "source": [
        "This problem illustrates a property of cartesian products of unions of two or more sets. For four sets $A$, $B$, $S$ and $T$, the following holds:\n",
        "\n",
        "$$(A\\cup B)\\times(S\\cup T) = (A\\times S)\\cup(A\\times T)\\cup(B\\times S)\\cup(B\\times T)$$\n",
        "\n",
        "Write the following functions to determine $(A\\cup B)\\times(S\\cup T)$ in two different ways.\n"
      ]
    },
    {
      "cell_type": "markdown",
      "metadata": {
        "nbgrader": {
          "grade": false,
          "locked": true,
          "solution": false
        },
        "id": "eV2exgk55Xsy"
      },
      "source": [
        "## Exercies 2.1\n",
        "\n",
        "Write function **product_of_unions** that first determines $(A\\cup B)$ and $(S\\cup T)$ and then evaluates the cartesian products of these unions. Output the tuple $\\begin{pmatrix}(A\\cup B),\\,  (A\\cup B)\\times(S\\cup T)\\end{pmatrix}$.\n",
        "\n",
        "<font  style=\"color:blue\"> **Code**</font>\n",
        "```python\n",
        "A = {1, 2}\n",
        "B = {1, 3}\n",
        "S = {-1, 0}\n",
        "T = {0, 10}\n",
        "product_of_unions(A, B, S, T)\n",
        "```\n",
        "\n",
        "\n",
        "<font  style=\"color:magenta\"> **Output**</font>\n",
        "```\n",
        "({1, 2, 3},\n",
        " {(1, -1),\n",
        "  (1, 0),\n",
        "  (1, 10),\n",
        "  (2, -1),\n",
        "  (2, 0),\n",
        "  (2, 10),\n",
        "  (3, -1),\n",
        "  (3, 0),\n",
        "  (3, 10)})\n",
        "```\n"
      ]
    },
    {
      "cell_type": "code",
      "metadata": {
        "collapsed": true,
        "id": "me8WmxvO5Xsz"
      },
      "source": [
        "# modify this cell\n",
        "\n",
        "def product_of_unions(A, B, S, T):\n",
        "    # inputs: A, B, S and T are sets\n",
        "    # output: a tuple of the type (set, set)\n",
        "    \n",
        "    AB = A.union(B)\n",
        "    ST = S.union(T)\n",
        "    cp = set(product(AB,ST))\n",
        "    return (AB, cp)\n",
        "\n",
        "# modify this cell"
      ],
      "execution_count": null,
      "outputs": []
    },
    {
      "cell_type": "code",
      "metadata": {
        "collapsed": true,
        "nbgrader": {
          "grade": true,
          "grade_id": "ex3",
          "locked": true,
          "points": "5",
          "solution": false
        },
        "colab": {
          "base_uri": "https://localhost:8080/"
        },
        "id": "jdYIPAJi5Xsz",
        "outputId": "341ae576-f1d7-434f-c0fe-0a5065601e0f"
      },
      "source": [
        "# Check Function\n",
        "\n",
        "A = {5}\n",
        "B = {5, 6}\n",
        "S = {-1, 0, 1}\n",
        "T = {1, 2}\n",
        "#assert( product_of_unions(A, B, S, T) == \\\n",
        "       #({5, 6}, {(5, -1), (5, 0), (5, 1), (5, 2), (6, -1), (6, 0), (6, 1), (6, 2)})   )\n",
        "\n",
        "#\n",
        "# AUTOGRADER TEST - DO NOT REMOVE\n",
        "#\n",
        "product_of_unions(A, B, S, T)"
      ],
      "execution_count": null,
      "outputs": [
        {
          "output_type": "execute_result",
          "data": {
            "text/plain": [
              "({5, 6}, {(5, -1), (5, 0), (5, 1), (5, 2), (6, -1), (6, 0), (6, 1), (6, 2)})"
            ]
          },
          "metadata": {
            "tags": []
          },
          "execution_count": 66
        }
      ]
    },
    {
      "cell_type": "code",
      "metadata": {
        "colab": {
          "base_uri": "https://localhost:8080/"
        },
        "id": "YwVQuK3dCCt9",
        "outputId": "82a929f6-59fa-4452-f300-9ae9eea2b35f"
      },
      "source": [
        "A = {5}\r\n",
        "B = {5}\r\n",
        "S = {-1, 0}\r\n",
        "T = {0}\r\n",
        "#assert( product_of_unions(A, B, S, T) == \\\r\n",
        "       #({5, 6}, {(5, -1), (5, 0), (5, 1), (5, 2), (6, -1), (6, 0), (6, 1), (6, 2)})   )\r\n",
        "\r\n",
        "#\r\n",
        "# AUTOGRADER TEST - DO NOT REMOVE\r\n",
        "#\r\n",
        "product_of_unions(A, B, S, T)"
      ],
      "execution_count": null,
      "outputs": [
        {
          "output_type": "execute_result",
          "data": {
            "text/plain": [
              "({5}, {(5, -1), (5, 0)})"
            ]
          },
          "metadata": {
            "tags": []
          },
          "execution_count": 67
        }
      ]
    },
    {
      "cell_type": "markdown",
      "metadata": {
        "nbgrader": {
          "grade": false,
          "locked": true,
          "solution": false
        },
        "id": "0jl1UILO5Xsz"
      },
      "source": [
        "## Exercise 2.2\n",
        "\n",
        "Write a function **union_of_products** that first determines $(A\\times S)$ and the other three cartesian products that appear on the right hand side of the identity above, then evaluates the union of these cartesian products. Output the tuple $\\begin{pmatrix}(A\\times S),\\,  (A\\times S)\\cup(A\\times T)\\cup(B\\times S)\\cup(B\\times T)\\end{pmatrix}$.\n",
        "\n",
        "<font  style=\"color:blue\"> **Code**</font>\n",
        "```python\n",
        "A = {1, 2}\n",
        "B = {1, 3}\n",
        "S = {-1, 0}\n",
        "T = {0, 10}\n",
        "union_of_products(A, B, S, T)\n",
        "```\n",
        "\n",
        "\n",
        "<font  style=\"color:magenta\"> **Output**</font>\n",
        "```\n",
        "({(1, -1), (1, 0), (2, -1), (2, 0)},\n",
        " {(1, -1),\n",
        "  (1, 0),\n",
        "  (1, 10),\n",
        "  (2, -1),\n",
        "  (2, 0),\n",
        "  (2, 10),\n",
        "  (3, -1),\n",
        "  (3, 0),\n",
        "  (3, 10)})\n",
        "```"
      ]
    },
    {
      "cell_type": "code",
      "metadata": {
        "collapsed": true,
        "scrolled": true,
        "id": "M36hXVLk5Xs0"
      },
      "source": [
        "# modify this cell\n",
        "\n",
        "def union_of_products(A, B, S, T):\n",
        "    # inputs: A, B, S and T are sets\n",
        "    # output: a tuple of the type (set, set)\n",
        "    \n",
        "    AS = set(product(A,S))\n",
        "    AT = set(product(A,T))\n",
        "    BS = set(product(B,S))\n",
        "    BT = set(product(B,T))\n",
        "    lst = [AS, AT, BS, BT]\n",
        "    return (AS, set().union(*lst))\n"
      ],
      "execution_count": null,
      "outputs": []
    },
    {
      "cell_type": "code",
      "metadata": {
        "collapsed": true,
        "nbgrader": {
          "grade": true,
          "grade_id": "ex4",
          "locked": true,
          "points": "5",
          "solution": false
        },
        "colab": {
          "base_uri": "https://localhost:8080/"
        },
        "id": "WaJCsGNb5Xs0",
        "outputId": "ac852ea8-3c0e-4296-b220-188eeaaf9cb1"
      },
      "source": [
        "# Check Function\n",
        "\n",
        "A = {5}\n",
        "B = {5, 6}\n",
        "S = {-1, 0, 1}\n",
        "T = {1, 2}\n",
        "#assert( union_of_products(A, B, S, T) == \\\n",
        " #       ({(5, -1), (5, 0), (5, 1)}, \\\n",
        "  #       {(5, -1), (5, 0), (5, 1), (5, 2), (6, -1), (6, 0), (6, 1), (6, 2)})  \\\n",
        "   #   )\n",
        "\n",
        "#\n",
        "# AUTOGRADER TEST - DO NOT REMOVE\n",
        "#\n",
        "union_of_products(A, B, S, T)"
      ],
      "execution_count": null,
      "outputs": [
        {
          "output_type": "execute_result",
          "data": {
            "text/plain": [
              "({(5, -1), (5, 0), (5, 1)},\n",
              " {(5, -1), (5, 0), (5, 1), (5, 2), (6, -1), (6, 0), (6, 1), (6, 2)})"
            ]
          },
          "metadata": {
            "tags": []
          },
          "execution_count": 71
        }
      ]
    },
    {
      "cell_type": "code",
      "metadata": {
        "collapsed": true,
        "nbgrader": {
          "grade": false,
          "locked": true,
          "solution": false
        },
        "colab": {
          "base_uri": "https://localhost:8080/"
        },
        "id": "e2CZbQpS5Xs0",
        "outputId": "8f75a8af-24c3-4d87-e549-44b4b9f12cd4"
      },
      "source": [
        "# Check Function\n",
        "\n",
        "A = {5}\n",
        "B = {5}\n",
        "S = {-1, 0}\n",
        "T = {0}\n",
        "\n",
        "union_of_products(A, B, S, T)\n",
        "\n",
        "\n",
        "\n",
        "\n",
        "\n"
      ],
      "execution_count": null,
      "outputs": [
        {
          "output_type": "execute_result",
          "data": {
            "text/plain": [
              "({(5, -1), (5, 0)}, {(5, -1), (5, 0)})"
            ]
          },
          "metadata": {
            "tags": []
          },
          "execution_count": 72
        }
      ]
    },
    {
      "cell_type": "code",
      "metadata": {
        "id": "_PiUxsubD4n_"
      },
      "source": [
        ""
      ],
      "execution_count": null,
      "outputs": []
    }
  ]
}